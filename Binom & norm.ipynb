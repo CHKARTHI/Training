{
 "cells": [
  {
   "cell_type": "code",
   "execution_count": 1,
   "id": "c1ccd123-0477-44c5-955a-18e729dea806",
   "metadata": {},
   "outputs": [],
   "source": [
    "import numpy as np"
   ]
  },
  {
   "cell_type": "code",
   "execution_count": 2,
   "id": "d19cd992-4e78-48fa-a38b-ff3755cd2b31",
   "metadata": {},
   "outputs": [],
   "source": [
    "import pandas as pd"
   ]
  },
  {
   "cell_type": "code",
   "execution_count": 3,
   "id": "bebbacf1-1817-4e2b-86d5-672ec9b3c146",
   "metadata": {},
   "outputs": [],
   "source": [
    "import scipy "
   ]
  },
  {
   "cell_type": "code",
   "execution_count": 4,
   "id": "8997b7ec-4ed9-47ad-9780-0b636f619010",
   "metadata": {},
   "outputs": [],
   "source": [
    "from scipy import stats"
   ]
  },
  {
   "cell_type": "code",
   "execution_count": 5,
   "id": "9c1a83b7-7904-4d7c-8292-acd6880d26a3",
   "metadata": {},
   "outputs": [],
   "source": [
    "#binom for discrete"
   ]
  },
  {
   "cell_type": "code",
   "execution_count": 6,
   "id": "97447766-f06e-4285-9498-81a118ea5b85",
   "metadata": {},
   "outputs": [],
   "source": [
    "#5 applied bank loan, 0.6"
   ]
  },
  {
   "cell_type": "code",
   "execution_count": 7,
   "id": "8d04a9df-a2e9-428a-8993-e48cdf510545",
   "metadata": {},
   "outputs": [],
   "source": [
    "bi = stats.binom(5, 0.6)"
   ]
  },
  {
   "cell_type": "code",
   "execution_count": 8,
   "id": "42c74633-a379-4dcd-a160-685d62562834",
   "metadata": {},
   "outputs": [
    {
     "data": {
      "text/plain": [
       "<scipy.stats._distn_infrastructure.rv_discrete_frozen at 0x1f4329928f0>"
      ]
     },
     "execution_count": 8,
     "metadata": {},
     "output_type": "execute_result"
    }
   ],
   "source": [
    "bi"
   ]
  },
  {
   "cell_type": "code",
   "execution_count": 9,
   "id": "fcdc3c5b-40cb-4ee4-99b1-b319931e1aec",
   "metadata": {},
   "outputs": [],
   "source": [
    "#r = chances of events, r=3"
   ]
  },
  {
   "cell_type": "code",
   "execution_count": 11,
   "id": "edff8a5b-cf7c-4ba7-b066-1929933a4ff6",
   "metadata": {},
   "outputs": [
    {
     "data": {
      "text/plain": [
       "0.3456"
      ]
     },
     "execution_count": 11,
     "metadata": {},
     "output_type": "execute_result"
    }
   ],
   "source": [
    "bi.pmf(3).round(4)"
   ]
  },
  {
   "cell_type": "code",
   "execution_count": 18,
   "id": "af5d54fa-e4f9-4837-913b-40d7c74d2496",
   "metadata": {},
   "outputs": [
    {
     "data": {
      "text/plain": [
       "0.6630399999999996"
      ]
     },
     "execution_count": 18,
     "metadata": {},
     "output_type": "execute_result"
    }
   ],
   "source": [
    "bi.pmf([0,1,2,3]).sum()"
   ]
  },
  {
   "cell_type": "code",
   "execution_count": 17,
   "id": "f8650c66-4b79-4c82-8ba8-456c07a0f0e0",
   "metadata": {},
   "outputs": [
    {
     "data": {
      "text/plain": [
       "0.6630400000000001"
      ]
     },
     "execution_count": 17,
     "metadata": {},
     "output_type": "execute_result"
    }
   ],
   "source": [
    "bi.cdf(3)"
   ]
  },
  {
   "cell_type": "code",
   "execution_count": 19,
   "id": "e46825b6-6194-4f80-9751-47e361ce4cbb",
   "metadata": {},
   "outputs": [],
   "source": [
    "#normal dist or standatdization"
   ]
  },
  {
   "cell_type": "code",
   "execution_count": 20,
   "id": "0f48f834-836f-4605-9314-08a7d240ae82",
   "metadata": {},
   "outputs": [],
   "source": [
    "#parameters = Mean and SD"
   ]
  },
  {
   "cell_type": "code",
   "execution_count": 21,
   "id": "d245ad5d-efb1-436a-aac8-8be7096b6a07",
   "metadata": {},
   "outputs": [],
   "source": [
    "nor = stats.norm(170, 10)"
   ]
  },
  {
   "cell_type": "code",
   "execution_count": 23,
   "id": "252a02d1-159d-4074-98a5-ffeadd4566f7",
   "metadata": {},
   "outputs": [
    {
     "data": {
      "text/plain": [
       "0.9973002039367398"
      ]
     },
     "execution_count": 23,
     "metadata": {},
     "output_type": "execute_result"
    }
   ],
   "source": [
    "nor.cdf(200)-nor.cdf(140)"
   ]
  },
  {
   "cell_type": "code",
   "execution_count": 24,
   "id": "bce8540b-5e93-4f8a-b74f-e1064d673877",
   "metadata": {},
   "outputs": [
    {
     "data": {
      "text/plain": [
       "0.5"
      ]
     },
     "execution_count": 24,
     "metadata": {},
     "output_type": "execute_result"
    }
   ],
   "source": [
    "1-nor.cdf(170)"
   ]
  },
  {
   "cell_type": "code",
   "execution_count": null,
   "id": "049c3ff5-494b-4dda-8f06-4be01e8d0334",
   "metadata": {},
   "outputs": [],
   "source": []
  }
 ],
 "metadata": {
  "kernelspec": {
   "display_name": "Python 3 (ipykernel)",
   "language": "python",
   "name": "python3"
  },
  "language_info": {
   "codemirror_mode": {
    "name": "ipython",
    "version": 3
   },
   "file_extension": ".py",
   "mimetype": "text/x-python",
   "name": "python",
   "nbconvert_exporter": "python",
   "pygments_lexer": "ipython3",
   "version": "3.10.9"
  }
 },
 "nbformat": 4,
 "nbformat_minor": 5
}
